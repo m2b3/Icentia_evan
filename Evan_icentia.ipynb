{
 "cells": [
  {
   "cell_type": "markdown",
   "metadata": {},
   "source": [
    "# Evan, Icentia analysis"
   ]
  },
  {
   "cell_type": "markdown",
   "metadata": {},
   "source": [
    "## importing necessary modules and initializing global variables"
   ]
  },
  {
   "cell_type": "code",
<<<<<<< HEAD
   "execution_count": 1,
=======
<<<<<<< HEAD
   "execution_count": 1,
=======
   "execution_count": 7,
>>>>>>> 46f89d50f8a11333452c8410219a5417b7312cdd
>>>>>>> e81be047d8f9ee2faf3bda15ec703e735396964d
   "metadata": {},
   "outputs": [],
   "source": [
    "import numpy as np\n",
    "from numpy.fft import rfft, rfftfreq\n",
    "import matplotlib.pyplot as plt\n",
    "import os\n",
    "import scipy.signal as signal\n",
    "from Tools.ReadPatientData import readSubject\n",
    "from Tools.AnalysisTools import *\n",
    "import neurokit2 as nk\n",
    "import pandas as pd\n",
    "\n",
    "dataFolder = \"100data\"      \n",
    "fs = 250  "
   ]
  },
  {
   "cell_type": "markdown",
   "metadata": {},
   "source": [
    "## Find missing files\n"
   ]
  },
  {
   "cell_type": "code",
   "execution_count": 3,
   "metadata": {},
   "outputs": [
    {
     "data": {
      "text/plain": [
       "'\\n# Define the directory where the files are located\\ndirectory = \"ecg_rate_11k\"  # Replace with your directory path\\n\\n# Generate the expected filenames\\nexpected_files = {f\"{i:05}_ecg_rate.pkl.gz\" for i in range(11000)}  # 00000 to 11000\\n\\nactual_files = {files for files in os.listdir(directory)}\\n\\n# Find the missing files\\nmissing_files = expected_files - actual_files\\n\\nif missing_files:\\n    print(\"Missing files:\")\\n    for missing_file in sorted(missing_files):\\n        print(missing_file)\\nelse:\\n    print(\"No missing files.\")\\n'"
      ]
     },
     "execution_count": 3,
     "metadata": {},
     "output_type": "execute_result"
    }
   ],
   "source": [
    "import os\n",
    "'''\n",
    "# Define the directory where the files are located\n",
    "directory = \"ecg_rate_11k\"  # Replace with your directory path\n",
    "\n",
    "# Generate the expected filenames\n",
    "expected_files = {f\"{i:05}_ecg_rate.pkl.gz\" for i in range(11000)}  # 00000 to 11000\n",
    "\n",
    "actual_files = {files for files in os.listdir(directory)}\n",
    "\n",
    "# Find the missing files\n",
    "missing_files = expected_files - actual_files\n",
    "\n",
    "if missing_files:\n",
    "    print(\"Missing files:\")\n",
    "    for missing_file in sorted(missing_files):\n",
    "        print(missing_file)\n",
    "else:\n",
    "    print(\"No missing files.\")\n",
    "'''"
   ]
  },
  {
   "cell_type": "markdown",
   "metadata": {},
   "source": [
    "## test, reading ecg_rate and ecg_clean files\n"
   ]
  },
  {
   "cell_type": "code",
   "execution_count": null,
   "metadata": {},
   "outputs": [],
   "source": [
    "rate=pd.read_pickle('Test/00000_ecg_rate.pkl.gz', compression='gzip')\n",
    "clean=pd.read_pickle('ecg_clean_filtered/00000_ecg_clean.pkl.gz', compression='gzip')\n",
    "rows = clean[\"00000_subject\"]\n",
    "number_of_removal = rows[-1]\n",
    "removed_sessions = rows[-2]\n",
    "session = rows[:-2]\n",
    "\n",
    "print(number_of_removal)\n",
    "print(removed_sessions)\n",
    "len(rows[0])\n"
   ]
  },
  {
   "cell_type": "markdown",
   "metadata": {},
   "source": [
    "# Computing heart rate and fft\n"
   ]
  },
  {
   "cell_type": "code",
   "execution_count": null,
   "metadata": {},
   "outputs": [],
   "source": [
    "import re\n",
    "import plotly.graph_objects as go\n",
    "\n",
    "def plot_heart_rate(folder, subject):\n",
    "    '''\n",
    "    Plots all session heart rate (both neurokit and annotaions genearted on top of each other to compare differences)\n",
    "\n",
    "    parameters:\n",
    "    - folder:  folder where it contains the file \"*****_ecg_rate.pkl.gz\"\n",
    "    - subject: subject id\n",
    "    '''\n",
    "    rate=pd.read_pickle(f'{folder}/{subject:05d}_ecg_rate.pkl.gz', compression='gzip')\n",
    "    rate_rows = rate[f\"{subject:05d}_subject\"]\n",
    "    sessions = rate_rows.keys()\n",
    "    session_numbers = [int(re.search(r'\\d+$', s).group()) for s in sessions if re.search(r'\\d+$', s)]\n",
    "\n",
    "    for index in range(len(sessions)-2):\n",
    "        ECGTotal, annotationTotal = readSubject(subject, dataFolder)\n",
    "        session_id = session_numbers[index]\n",
    "        ecg = ECGTotal[session_id]\n",
    "        annotation = annotationTotal[session_id]\n",
    "        peaks = findPeaks(annotation, len(ecg))\n",
    "        peak_positions = np.where(peaks == 1)[0]\n",
    "        \n",
    "        ecg_rate_neurokit = rate_rows[index]\n",
    "        ecg_rate_annotations= nk.signal_rate(peak_positions, sampling_rate=fs, desired_length=len(ecg))\n",
    "\n",
    "        time = (np.arange(len(ecg)) / fs)[:len(ecg)//4]\n",
    "\n",
    "\n",
    "        y1 = ecg_rate_annotations[:len(ecg)//4]\n",
    "        y2 = ecg_rate_neurokit[:len(ecg)//4]\n",
    "\n",
    "        plt.figure(figsize=(20,5))\n",
    "        plt.plot(time, y2, label='ECG neurokit', alpha=0.5, linestyle='-' )\n",
    "        plt.plot(time, y1, label='ECG annotations', alpha=0.5, linestyle='-')\n",
    "       \n",
    "\n",
    "        plt.xlabel('Time (s)')\n",
    "        plt.ylabel('heart rate')\n",
    "        plt.title(f'ecg_rate for subject_{subject:05d}, session_{session_id:02d}')\n",
    "        plt.legend()\n",
    "        plt.grid(True)\n",
    "        plt.show()\n",
    "\n",
    "plot_heart_rate('Test',8)"
   ]
  },
  {
   "cell_type": "code",
   "execution_count": null,
   "metadata": {},
   "outputs": [],
   "source": [
    "def ecg_rate_superimposed_plot(folder, subject, session_id):\n",
    "    '''\n",
    "    Plot heart rate (generated by annotations and neruokit) of a single session from a single subject on top of each other (intearctive)\n",
    "    parameters:\n",
    "    - folder: folder where it contains the file \"*****_ecg_rate.pkl.gz\"\n",
    "    - subject: subject id\n",
    "    - session_id: session that you want to plot\n",
    "    '''\n",
    "    rate=pd.read_pickle(f'{folder}/{subject:05d}_ecg_rate.pkl.gz', compression='gzip')\n",
    "    rate_rows = rate[f\"{subject:05d}_subject\"]\n",
    "    sessions = rate_rows.keys()\n",
    "    session_numbers = [int(re.search(r'\\d+$', s).group()) for s in sessions if re.search(r'\\d+$', s)]\n",
    "\n",
    "    ECGTotal, annotationTotal = readSubject(subject, dataFolder)\n",
    "    ecg = ECGTotal[session_id]\n",
    "    annotation = annotationTotal[session_id]\n",
    "    peaks = findPeaks(annotation, len(ecg))\n",
    "    peak_positions = np.where(peaks == 1)[0]\n",
    "\n",
    "\n",
    "    ecg_rate_neurokit = rate_rows[session_numbers.index(session_id)]\n",
    "    ecg_rate_annotations= nk.signal_rate(peak_positions, sampling_rate=fs, desired_length=len(ecg))\n",
    "\n",
    "    time = (np.arange(len(ecg)) / fs)\n",
    "    y = ecg_rate_neurokit\n",
    "    y1 = ecg_rate_annotations\n",
    "\n",
    "    fig = go.Figure()\n",
    "    fig.add_trace(go.Scatter(x=time, y=y, mode='lines', name='neurokit'))\n",
    "    fig.add_trace(go.Scatter(x=time, y=y1, mode='lines', name='annotations'))\n",
    "    # Add the R-peaks as red markers\n",
    "\n",
    "    # Update layout for better visualization\n",
    "    fig.update_layout(\n",
    "        title=f\"Interactive heart rate plot, subject: {subject:05d}, session: {session_id:02d}\",\n",
    "        xaxis_title=\"Time (s)\",\n",
    "        yaxis_title=\"Amplitude\",\n",
    "        showlegend=True\n",
    "    )\n",
    "    # Show the plot\n",
    "    fig.show()\n",
    "\n",
    "ecg_rate_superimposed_plot('Test', 1,1)"
   ]
  },
  {
   "cell_type": "code",
   "execution_count": null,
   "metadata": {},
   "outputs": [],
   "source": [
    "import plotly.graph_objects as go\n",
    "\n",
    "def compare_peaks_in_ecg_raw(folder, subject_id, session_id):\n",
    "    '''\n",
    "    Outputs two interactive plot: \n",
    "    - ecg_raw with rpeaks labeled using neurokit\n",
    "    - ecg_raw with rpeaks and noise labeled using annotations\n",
    "\n",
    "    parameters:\n",
    "    - folder: folder that contains the annotations\n",
    "    - subject_id: the subject you want to compare the two methods with\n",
    "    - session_id: the session you want to compare the two methods with\n",
    "\n",
    "    '''\n",
    "    ecg_raw_total, annotation_total = readSubject(subject_id,f\"{folder}\")\n",
    "    ecg_raw = ecg_raw_total[session_id]\n",
    "\n",
    "    l = len(ecg_raw)/fs\n",
    "    x = (np.arange(len(ecg_raw)) / fs)\n",
    "    y = ecg_raw\n",
    "\n",
    "    ecg_clean = nk.ecg_clean(ecg_raw, sampling_rate=250, method=\"neurokit\")\n",
    "    _, rpeaks = nk.ecg_peaks(ecg_clean, sampling_rate=fs)\n",
    "    rpeaks = (rpeaks['ECG_R_Peaks'])\n",
    "\n",
    "    \n",
    "    annotation = annotation_total[session_id]\n",
    "    peaks = findPeaks(annotation, len(ecg_raw))\n",
    "    noises = find_noise(annotation, len(ecg_raw))\n",
    "\n",
    "    noise_positions = np.where(noises == 1)[0]\n",
    "    peak_positions = np.where(peaks == 1)[0]\n",
    "\n",
    "    fig = go.Figure()\n",
    "    fig.add_trace(go.Scatter(x=x, y=y, mode='lines', name='Raw ECG Signal'))\n",
    "    # Add the R-peaks as red markers\n",
    "    fig.add_trace(go.Scatter(x=x[rpeaks], y=y[rpeaks], mode='markers', name='R-peaks', marker=dict(color='red')))\n",
    "    # Update layout for better visualization\n",
    "    fig.update_layout(\n",
    "        title=f\"(Neurokit) Interactive Raw ECG Signal with R-peaks, subject: {subject_id:05d}, session: {session_id:02d}\",\n",
    "        xaxis_title=\"Time (s)\",\n",
    "        yaxis_title=\"Amplitude\",\n",
    "        showlegend=True\n",
    "    )\n",
    "    # Show the plot\n",
    "    fig.show()\n",
    "\n",
    "    fig1 = go.Figure()\n",
    "    fig1.add_trace(go.Scatter(x=x, y=y, mode='lines', name='Raw ECG Signal'))\n",
    "    # Add the R-peaks as red markers\n",
    "    fig1.add_trace(go.Scatter(x=x[peak_positions], y=y[peak_positions], mode='markers', name='R-peaks', marker=dict(color='red')))\n",
    "    fig1.add_trace(go.Scatter(x=x[noise_positions], y=y[noise_positions], mode='markers', name='noises', marker=dict(color='yellow')))\n",
    "    # Update layout for better visualization\n",
    "    fig1.update_layout(\n",
    "        title=f\"(Annotations) Interactive Raw ECG Signal with R-peaks, subject: {subject_id:05d}, session: {session_id:02d}\",\n",
    "        xaxis_title=\"Time (s)\",\n",
    "        yaxis_title=\"Amplitude\",\n",
    "        showlegend=True\n",
    "    )\n",
    "    # Show the plot\n",
    "    fig1.show()\n",
    "\n",
    "compare_peaks_in_ecg_raw(\"100data\",1,1\n",
    "                         )\n"
   ]
  },
  {
   "cell_type": "code",
<<<<<<< HEAD
   "execution_count": 2,
=======
<<<<<<< HEAD
   "execution_count": 2,
=======
   "execution_count": 11,
>>>>>>> 46f89d50f8a11333452c8410219a5417b7312cdd
>>>>>>> e81be047d8f9ee2faf3bda15ec703e735396964d
   "metadata": {},
   "outputs": [],
   "source": [
    "def process_ecg_rate(ecg_rate, detrend, filter_enabled, highcut, fs):\n",
    "    '''\n",
    "    pre-processing ecg_rate, detrend, filter, highcut\n",
    "    \n",
    "    parameters:\n",
    "    - ecg_rate: the ecg rate beings processed\n",
    "    - detrend: boolean values, determines to detrend or not\n",
    "    - filter_enabled: boolean values, determines to filter or not\n",
    "    - highcut: filter highcut\n",
    "    - fs: sampling frequency\n",
    "    '''\n",
    "    if detrend:\n",
    "        ecg_rate = signal.detrend(ecg_rate)\n",
    "\n",
    "    if filter_enabled:\n",
    "        ecg_rate = nk.signal_filter(\n",
    "            ecg_rate,\n",
    "            highcut=highcut,\n",
    "            sampling_rate=fs,\n",
    "        )\n",
    "    return ecg_rate\n",
    "\n",
    "def compute_fft(ecg_rate, fs):\n",
    "    '''\n",
    "    computes the fft given ecg_rate and fs\n",
    "    '''\n",
    "    N = len(ecg_rate)\n",
    "    fft_values = np.abs(rfft(ecg_rate))\n",
    "    freqs = rfftfreq(N, 1 / fs)\n",
    "    \n",
    "   \n",
    "    window_size = 8\n",
    "    smooth_fft = np.convolve(fft_values, np.ones(window_size) / window_size, mode='same')\n",
    "    return freqs, smooth_fft"
   ]
  },
  {
   "cell_type": "code",
<<<<<<< HEAD
   "execution_count": 3,
=======
<<<<<<< HEAD
   "execution_count": 3,
=======
   "execution_count": 10,
>>>>>>> 46f89d50f8a11333452c8410219a5417b7312cdd
>>>>>>> e81be047d8f9ee2faf3bda15ec703e735396964d
   "metadata": {},
   "outputs": [],
   "source": [
    "def sliding_window(data, window_time, overlap, noises, sampling_frequency=250):\n",
    "    '''\n",
    "    splits a session into segemnts given the desired time, overalp, and remove all the segments with noises\n",
    "\n",
    "    parameters:\n",
    "    - data: the session being segmented\n",
    "    - window_time: time of the window in minutes\n",
    "    - overlap: percent overlap you want (from 0 to 1)\n",
    "    - noises: an array of 0 and 1 indicating the position of noise\n",
    "    '''\n",
    "    window_length = int(window_time * 60 * sampling_frequency)\n",
    "    step_size = int(window_length * (1 - overlap))\n",
    "    \n",
    "    # Initialize dictionaries to hold windows with and without noise\n",
    "    windows = {}\n",
    "    removed_windows = {}\n",
    "    segment = 0\n",
    "\n",
    "    # Iterate over the data using the calculated step size and window length\n",
    "    for start in range(0, len(data), step_size):\n",
    "        window = data[start:start + window_length]\n",
    "        noise_window = noises[start:start + window_length]\n",
    "        \n",
    "        if np.any(noise_window): \n",
    "            removed_windows[segment] = window\n",
    "        else:\n",
    "            windows[f'segment_{segment}'] = window\n",
    "        \n",
    "        segment += 1\n",
    "    \n",
    "    return windows, removed_windows"
   ]
  },
  {
   "cell_type": "code",
   "execution_count": 9,
   "metadata": {},
   "outputs": [],
   "source": [
    "def calculate_differences(a_PSD,n_PSD):\n",
    "    \n",
    "    abs_differences = []\n",
    "    for i in range (len(n_PSD)):\n",
    "         _, a_fft = a_PSD[i]\n",
    "         _, n_fft = n_PSD[i]\n",
    "         a_fft = np.array(a_fft)\n",
    "         n_fft = np.array(n_fft)\n",
    "\n",
    "         differences = a_fft - n_fft\n",
    "    \n",
    "         abs_difference = np.sum(np.abs(differences))\n",
    "         abs_differences.append(abs_difference)\n",
    "\n",
    "    return(abs_differences)"
   ]
  },
  {
   "cell_type": "code",
<<<<<<< HEAD
   "execution_count": 33,
=======
<<<<<<< HEAD
   "execution_count": 33,
=======
   "execution_count": 15,
>>>>>>> 46f89d50f8a11333452c8410219a5417b7312cdd
>>>>>>> e81be047d8f9ee2faf3bda15ec703e735396964d
   "metadata": {},
   "outputs": [],
   "source": [
    "import re\n",
    "def save_psd(annotations_folder, neurokit_folder, subject, overlap,length, filter_threshold, plot=True):\n",
    "    annotation_rates=pd.read_pickle(f'{annotations_folder}/{subject:05d}_ecg_rate.pkl.gz', compression='gzip')\n",
    "    neurokit_rates=pd.read_pickle(f'{neurokit_folder}/{subject:05d}_ecg_rate.pkl.gz', compression='gzip')\n",
    "\n",
    "    neurokit_rows = neurokit_rates[f\"{subject:05d}_subject\"][:-2]\n",
    "    annotation_rows = annotation_rates[f\"{subject:05d}_subject\"][:-2]\n",
    "\n",
    "    a_session_names = (annotation_rows.keys())\n",
    "    n_session_names = (neurokit_rows.keys())\n",
    "    common_session_names = list(set(a_session_names) & set(n_session_names))\n",
    "\n",
    "    neurokit_rows = {key: value for key, value in neurokit_rows.items() if key in common_session_names}\n",
    "    annotation_rows = {key: value for key, value in annotation_rows.items() if key in common_session_names}\n",
    "   \n",
    "    session_numbers = sorted([int(re.search(r'\\d+$', s).group()) for s in common_session_names if re.search(r'\\d+$', s)])\n",
    "\n",
    "    neurokit_rates = list(neurokit_rows.values())\n",
    "    annotation_rates = list(annotation_rows.values())\n",
    "\n",
    "    _, annotations = readSubject(subject,\"100data\")\n",
    "    number_of_sessions = len(common_session_names)\n",
    "\n",
    "    session_results = {}\n",
    "    for session in range(number_of_sessions):\n",
    "        neurokit_rate = neurokit_rates[session]\n",
    "        annotation_rate = annotation_rates[session]\n",
    "        annotation = annotations[session_numbers[session]]\n",
    "\n",
    "        noises = find_noise(annotation, len(neurokit_rate))\n",
    "        a_windows, _ = sliding_window(annotation_rate,window_time=length, overlap=overlap, noises=noises)\n",
    "        n_windows, n_removed_windows = sliding_window(neurokit_rate,window_time=length, overlap=overlap, noises=noises)\n",
    "\n",
    "        a_segmented_rates = list(a_windows.values())\n",
    "        segment_ids = list(a_windows.keys())\n",
    "\n",
    "        n_segmented_rates = list(n_windows.values())\n",
    "\n",
    "        results = {}\n",
    "        for i in range(len(n_segmented_rates)):\n",
    "            a_rate = a_segmented_rates[i]\n",
    "            n_rate = n_segmented_rates[i]\n",
    "            segment = segment_ids[i]\n",
    "            if np.isnan(n_rate).any() or np.isnan(a_rate).any():\n",
    "                continue\n",
    "            try:\n",
    "                a_rate_d = process_ecg_rate(a_rate, True, True, highcut = 0.35, fs=fs)\n",
    "                n_rate_d = process_ecg_rate(n_rate, True, True, highcut = 0.35, fs=fs)\n",
    "\n",
    "                a_freqs, a_fft = compute_fft(a_rate_d, fs)\n",
    "                n_freqs, n_fft = compute_fft(n_rate_d, fs)\n",
    "\n",
<<<<<<< HEAD
=======
<<<<<<< HEAD
>>>>>>> e81be047d8f9ee2faf3bda15ec703e735396964d
    "                valid_idx = (a_freqs > 0) & (a_freqs <= 0.35)\n",
    "                freqs = a_freqs[valid_idx]\n",
    "                a_fft = np.array(a_fft)[valid_idx]\n",
    "                n_fft = np.array(n_fft)[valid_idx]\n",
    "\n",
<<<<<<< HEAD
=======
=======
    "                a_fft = np.array(a_fft)\n",
    "                n_fft = np.array(n_fft)\n",
>>>>>>> 46f89d50f8a11333452c8410219a5417b7312cdd
>>>>>>> e81be047d8f9ee2faf3bda15ec703e735396964d
    "                differences = a_fft - n_fft\n",
    "                abs_difference = np.sum(np.abs(differences))\n",
    "                \n",
    "                if abs_difference <= filter_threshold:\n",
    "                    results[segment] = {\n",
    "                        \"freqs\": a_freqs,\n",
<<<<<<< HEAD
    "                        \"fft\": a_fft\n",
=======
<<<<<<< HEAD
    "                        \"fft\": a_fft\n",
=======
    "                        \"a_fft\": a_fft,\n",
    "                        \"n_fft\": n_fft\n",
>>>>>>> 46f89d50f8a11333452c8410219a5417b7312cdd
>>>>>>> e81be047d8f9ee2faf3bda15ec703e735396964d
    "                        }\n",
    "                    \n",
    "                    session_results[f'Session_{session_numbers[session]:02d}'] = results\n",
    "        \n",
    "                    if plot:\n",
    "                        time = (np.arange(len(a_rate))/fs)/60\n",
    "                        # Create a single figure with 4 subplots\n",
    "                        plt.figure(figsize=(20, 10))\n",
    "\n",
    "                        # Top-left subplot: (annotations) ECG Rate\n",
    "                        plt.subplot(2, 2, 1)\n",
    "                        plt.plot(time, a_rate, color='blue')\n",
    "                        plt.xlabel('Time (minutes)')\n",
    "                        plt.ylabel('ECG Rate')\n",
    "                        plt.title(f'(annotations) ECG Rate (Subject_{subject:05d}_Session_{session_numbers[session]:02d}_Segment_{segment})')\n",
    "                        plt.grid(True)\n",
    "\n",
    "                        # Top-right subplot: (annotations) Power Spectral Density\n",
    "                        plt.subplot(2, 2, 2)\n",
    "                        plt.plot(a_freqs, a_fft, color='red')\n",
    "                        plt.xlabel('Frequency (Hz)')\n",
    "                        plt.ylabel('Magnitude')\n",
    "                        plt.title(f'(annotations) Power Spectral Density (Subject_{subject:05d}_Session_{session_numbers[session]:02d}_Segment_{segment})')\n",
    "                        plt.xlim(0, 0.35)\n",
    "                        plt.grid(True)\n",
    "\n",
    "                        # Bottom-left subplot: (neurokit) ECG Rate\n",
    "                        plt.subplot(2, 2, 3)\n",
    "                        plt.plot(time, n_rate, color='blue')\n",
    "                        plt.xlabel('Time (minutes)')\n",
    "                        plt.ylabel('ECG Rate')\n",
    "                        plt.title(f'(neurokit) ECG Rate (Subject_{subject:05d}_Session_{session_numbers[session]:02d}_Segment_{segment})')\n",
    "                        plt.grid(True)\n",
    "\n",
    "                        # Bottom-right subplot: (neurokit) Power Spectral Density\n",
    "                        plt.subplot(2, 2, 4)\n",
    "                        plt.plot(n_freqs, n_fft, color='red')\n",
    "                        plt.xlabel('Frequency (Hz)')\n",
    "                        plt.ylabel('Magnitude')\n",
    "                        plt.title(f'(neurokit) Power Spectral Density (Subject_{subject:05d}_Session_{session_numbers[session]:02d}_Segment_{segment})')\n",
    "                        plt.xlim(0, 0.35)\n",
    "                        plt.grid(True)\n",
    "                        # Adjust layout to prevent overlapping\n",
    "                        plt.tight_layout()\n",
    "\n",
    "                        # Show the figure\n",
    "                        plt.show()\n",
    "                        # Print the absolute differences\n",
    "                        print(f\"total absolute differnces: {abs_difference}\")\n",
    "                    \n",
    "                session_results[f\"Session_{session_numbers[session]:02d}\"] = results\n",
    "        \n",
<<<<<<< HEAD
    "            except Exception as e:\n",
    "                print(f'error proceesing (Subject_{subject:05d}_Session_{session_numbers[session]:02d}_Segment_{segment}), error = {e}')\n",
=======
<<<<<<< HEAD
    "            except Exception as e:\n",
    "                print(f'error proceesing (Subject_{subject:05d}_Session_{session_numbers[session]:02d}_Segment_{segment}), error = {e}')\n",
=======
    "            except:\n",
    "                print(f'error proceesing (Subject_{subject:05d}_Session_{session_numbers[session]:02d}_Segment_{segment})')\n",
>>>>>>> 46f89d50f8a11333452c8410219a5417b7312cdd
>>>>>>> e81be047d8f9ee2faf3bda15ec703e735396964d
    "            \n",
    "                \n",
    "        if plot:\n",
    "            plt.figure(figsize=(16, 5))\n",
    "            whole_time = (np.arange(len(neurokit_rate)) /fs)/ 60\n",
    "            plt.plot(whole_time, neurokit_rate, color='blue', label='ECG_rate Data')\n",
    "\n",
    "            for removed in n_removed_windows.keys():\n",
    "                start = removed * (length * (1 - overlap))\n",
    "                end = start + length\n",
    "                plt.axvspan(start, end, color='red', alpha=0.3)\n",
    "            \n",
    "            plt.xlabel('Time (minutes)')\n",
    "            plt.ylabel('ECG rate Data')\n",
    "            plt.title(f'Entire Heart Rate Data (Subject_{subject:05d}, Session {session_numbers[session]}) with Removed Segments Highlighted')\n",
    "            plt.legend()\n",
    "            plt.grid(True)\n",
    "            plt.show()\n",
    "        \n",
    "    \n",
    "            \n",
<<<<<<< HEAD
=======
<<<<<<< HEAD
>>>>>>> e81be047d8f9ee2faf3bda15ec703e735396964d
    "    results_df = pd.DataFrame(session_results)\n",
    "    return results_df#session_results\n",
    "\n",
    "results = save_psd(annotations_folder='heart_rate_annotation', neurokit_folder=\"heart_rate_neurokit\", subject=0,overlap=0, length=5, filter_threshold=2e5, plot=False)"
<<<<<<< HEAD
=======
=======
    "    results_df = pd.DataFrame(session_results).T\n",
    "    return results_df#session_results\n",
    "\n",
    "results = save_psd(annotations_folder='ECG_rate_annotations', neurokit_folder=\"Test\", subject=0,overlap=0, length=5, filter_threshold=2e5, plot=False)"
>>>>>>> e81be047d8f9ee2faf3bda15ec703e735396964d
   ]
  },
  {
   "cell_type": "code",
<<<<<<< HEAD
   "execution_count": 19,
   "metadata": {},
   "outputs": [
    {
     "data": {
      "text/plain": [
       "segment_2     {'freqs': [0.0, 0.0033333333333333335, 0.00666...\n",
       "segment_4     {'freqs': [0.0, 0.0033333333333333335, 0.00666...\n",
       "segment_8     {'freqs': [0.0, 0.0033333333333333335, 0.00666...\n",
       "segment_11    {'freqs': [0.0, 0.0033333333333333335, 0.00666...\n",
       "segment_12    {'freqs': [0.0, 0.0033333333333333335, 0.00666...\n",
       "segment_13    {'freqs': [0.0, 0.003397800943229542, 0.006795...\n",
       "segment_0                                                   NaN\n",
       "segment_1                                                   NaN\n",
       "segment_3                                                   NaN\n",
       "segment_5                                                   NaN\n",
       "segment_7                                                   NaN\n",
       "segment_9                                                   NaN\n",
       "segment_6                                                   NaN\n",
       "segment_10                                                  NaN\n",
       "Name: Session_02, dtype: object"
      ]
     },
     "execution_count": 19,
     "metadata": {},
     "output_type": "execute_result"
    }
   ],
   "source": [
    "results.Session_02"
=======
   "execution_count": 16,
   "metadata": {},
   "outputs": [],
   "source": [
    "results = results.T"
>>>>>>> e81be047d8f9ee2faf3bda15ec703e735396964d
   ]
  },
  {
   "cell_type": "markdown",
   "metadata": {},
   "source": [
    "# Test FOOOF"
   ]
  },
  {
   "cell_type": "code",
   "execution_count": null,
   "metadata": {},
   "outputs": [],
   "source": [
    "# Import required code for visualizing example models\n",
    "from fooof import FOOOF\n",
    "from fooof.sim.gen import gen_power_spectrum\n",
    "from fooof.sim.utils import set_random_seed\n",
    "from fooof.plts.spectra import plot_spectra\n",
    "from fooof.plts.annotate import plot_annotated_model"
   ]
  },
  {
   "cell_type": "code",
   "execution_count": null,
   "metadata": {},
   "outputs": [],
   "source": [
    "# Initialize power spectrum model objects and fit the power spectra\n",
    "freq_range = [0, 0.5]\n",
    "fm = FOOOF(peak_width_limits=[0.02, 0.06], max_n_peaks=5, min_peak_height=0.2,\n",
    "           peak_threshold=2.0, aperiodic_mode='knee')\n",
    "# Model the power spectrum with FOOOF, and print out a report\n",
    "fm.report(freqs, a_fft, freq_range)"
   ]
  },
  {
   "cell_type": "code",
   "execution_count": null,
   "metadata": {},
   "outputs": [],
   "source": [
    "fm = FOOOF(peak_width_limits=[0.02, 0.06], max_n_peaks=6, min_peak_height=0.19,\n",
    "           peak_threshold=2.0, aperiodic_mode='knee')\n",
    "# Model the power spectrum with FOOOF, and print out a report\n",
    "\n",
    "\n",
    "for session in results.keys():\n",
    "    segments = results[session]\n",
    "    for segment_id in segments.keys():\n",
    "        segment = segments[segment_id]\n",
    "        if segment is None or (isinstance(segment, float) and np.isnan(segment)):\n",
    "    \n",
    "            continue\n",
    "        a_fft = segment['a_fft']\n",
    "        freqs = segment['freqs']\n",
    "        freqs = freqs[(freqs >= 0.01) & (freqs <= 0.5)]\n",
    "        a_fft = a_fft[:len(freqs)]\n",
    "        fm.report(freqs, a_fft, freq_range)\n",
    "        plt.figure(figsize=(10,5))\n",
    "        plt.plot(freqs,a_fft, color='blue')\n",
    "        plt.xlabel('freqs')\n",
    "        plt.ylabel('power')\n",
    "        plt.title('psd')\n",
    "        plt.grid(True)\n",
    "\n",
    "        "
   ]
  },
  {
   "cell_type": "markdown",
   "metadata": {},
   "source": [
    "## counts the availables segments and how many contains mayer waves"
   ]
  },
  {
   "cell_type": "code",
<<<<<<< HEAD
   "execution_count": 23,
=======
   "execution_count": null,
   "metadata": {},
   "outputs": [],
   "source": [
    "from fooof import FOOOF\n",
    "import numpy as np\n",
    "import pandas as pd\n",
    "\n",
    "def mayer_wave_counts(PSDs, show=True):\n",
    "    \"\"\"\n",
    "    Analyzes PSDs to count the number of valid (non-NaN) PSDs and those containing Mayer waves (0.05 - 0.15 Hz).\n",
    "    Also returns the corresponding session names and segment names for PSDs containing Mayer waves.\n",
    "\n",
    "    Parameters:\n",
    "    - PSDs: DataFrame where each entry is a PSD dictionary (with 'freqs' and 'a_fft') or NaN.\n",
    "    - show: If True, prints summary statistics.\n",
    "\n",
    "    Returns:\n",
    "    - total_valid_psds: Number of non-NaN PSDs analyzed.\n",
    "    - mayer_wave_count: Number of PSDs containing Mayer waves.\n",
    "    - mayer_wave_segments: List of tuples (session_name, segment_name) where Mayer waves were detected.\n",
    "    \"\"\"\n",
    "\n",
    "    fm = FOOOF(peak_width_limits=[0.02, 0.06], max_n_peaks=5, min_peak_height=0.2,\n",
    "               peak_threshold=2.0, aperiodic_mode='knee')\n",
    "\n",
    "    mayer_wave_range = (0.05, 0.15)\n",
    "    total_valid_psds = 0\n",
    "    mayer_wave_count = 0\n",
    "    mayer_wave_segments = []  # Store session and segment names\n",
    "\n",
    "    for session in PSDs.columns:\n",
    "        for segment in PSDs.index:\n",
    "            entry = PSDs.at[segment, session]\n",
    "\n",
    "            if isinstance(entry, dict) and 'freqs' in entry and 'a_fft' in entry:\n",
    "                freqs = np.array(entry['freqs'])\n",
    "                power_spectrum = np.array(entry['a_fft'])\n",
    "\n",
    "                valid_idx = freqs > 0  # Remove 0 Hz\n",
    "                freqs = freqs[valid_idx]\n",
    "                power_spectrum = power_spectrum[valid_idx]\n",
    "\n",
    "                if len(freqs) > 0 and len(power_spectrum) > 0:\n",
    "                    fm.fit(freqs, power_spectrum, [0, 0.35])\n",
    "                    total_valid_psds += 1\n",
    "\n",
    "                    for peak in fm.get_params('peak_params'):\n",
    "                        peak = np.array(peak)\n",
    "                        if np.isnan(peak).any():\n",
    "                            continue\n",
    "                        peak_freq = peak[0]\n",
    "                        if mayer_wave_range[0] <= peak_freq <= mayer_wave_range[1]:\n",
    "                            mayer_wave_count += 1\n",
    "                            mayer_wave_segments.append((session, segment))\n",
    "                            break  # Count only once per PSD\n",
    "\n",
    "    if show:                   \n",
    "        print(f\"Total non-NaN PSDs: {total_valid_psds}\")\n",
    "        print(f\"Number of PSDs containing Mayer waves: {mayer_wave_count}\")\n",
    "        print(\"Sessions and Segments with Mayer waves:\")\n",
    "        for session, segment in mayer_wave_segments:\n",
    "            print(f\"Session: {session}, Segment: {segment}\")\n",
    "\n",
    "    return total_valid_psds, mayer_wave_count, mayer_wave_segments\n",
    "\n",
    "\n",
    "\n",
    "mayer_wave_counts(results, show = True)"
>>>>>>> 46f89d50f8a11333452c8410219a5417b7312cdd
   ]
  },
  {
   "cell_type": "code",
   "execution_count": 19,
   "metadata": {},
   "outputs": [
    {
     "data": {
      "text/plain": [
<<<<<<< HEAD
       "segment_2     {'freqs': [0.0, 0.0033333333333333335, 0.00666...\n",
       "segment_4     {'freqs': [0.0, 0.0033333333333333335, 0.00666...\n",
       "segment_8     {'freqs': [0.0, 0.0033333333333333335, 0.00666...\n",
       "segment_11    {'freqs': [0.0, 0.0033333333333333335, 0.00666...\n",
       "segment_12    {'freqs': [0.0, 0.0033333333333333335, 0.00666...\n",
       "segment_13    {'freqs': [0.0, 0.003397800943229542, 0.006795...\n",
       "segment_0                                                   NaN\n",
       "segment_1                                                   NaN\n",
       "segment_3                                                   NaN\n",
       "segment_5                                                   NaN\n",
       "segment_7                                                   NaN\n",
       "segment_9                                                   NaN\n",
       "segment_6                                                   NaN\n",
       "segment_10                                                  NaN\n",
       "Name: Session_02, dtype: object"
      ]
     },
     "execution_count": 19,
     "metadata": {},
     "output_type": "execute_result"
    }
   ],
   "source": [
    "results.Session_02"
   ]
  },
  {
   "cell_type": "markdown",
   "metadata": {},
   "source": [
    "# Test FOOOF"
=======
       "5"
      ]
     },
     "execution_count": 5,
     "metadata": {},
     "output_type": "execute_result"
    }
   ],
   "source": [
    "with open(\"missing.csv\", \"r\") as f:\n",
    "    missing_subjects = [line.strip() for line in f.readlines()]\n"
   ]
  },
  {
   "cell_type": "code",
   "execution_count": 11,
>>>>>>> e81be047d8f9ee2faf3bda15ec703e735396964d
   "metadata": {},
   "outputs": [
    {
     "name": "stdout",
     "output_type": "stream",
     "text": [
<<<<<<< HEAD
      "Total non-NaN PSDs: 0\n",
      "Number of PSDs containing Mayer waves: 0\n",
      "Sessions and Segments with Mayer waves:\n"
     ]
    },
    {
     "name": "stderr",
     "output_type": "stream",
     "text": [
      "/var/folders/xv/64m91p097z5bhlb_0myjf3580000gn/T/ipykernel_68007/307888464.py:1: DeprecationWarning: \n",
      "The `fooof` package is being deprecated and replaced by the `specparam` (spectral parameterization) package.\n",
      "This version of `fooof` (1.1) is fully functional, but will not be further updated.\n",
      "New projects are recommended to update to using `specparam` (see Changelog for details).\n",
      "  from fooof import FOOOF\n"
     ]
    },
    {
     "data": {
      "text/plain": [
       "(0, 0, [])"
      ]
     },
     "execution_count": 23,
=======
      "2344\n"
     ]
    },
    {
     "data": {
      "text/plain": [
       "'02344'"
      ]
     },
     "execution_count": 11,
>>>>>>> e81be047d8f9ee2faf3bda15ec703e735396964d
     "metadata": {},
     "output_type": "execute_result"
    }
   ],
   "source": [
<<<<<<< HEAD
    "from fooof import FOOOF\n",
    "import numpy as np\n",
    "import pandas as pd\n",
    "\n",
    "def mayer_wave_counts(PSDs, show=True):\n",
    "    \"\"\"\n",
    "    Analyzes PSDs to count the number of valid (non-NaN) PSDs and those containing Mayer waves (0.05 - 0.15 Hz).\n",
    "    Also returns the corresponding session names and segment names for PSDs containing Mayer waves.\n",
    "\n",
    "    Parameters:\n",
    "    - PSDs: DataFrame where each entry is a PSD dictionary (with 'freqs' and 'a_fft') or NaN.\n",
    "    - show: If True, prints summary statistics.\n",
    "\n",
    "    Returns:\n",
    "    - total_valid_psds: Number of non-NaN PSDs analyzed.\n",
    "    - mayer_wave_count: Number of PSDs containing Mayer waves.\n",
    "    - mayer_wave_segments: List of tuples (session_name, segment_name) where Mayer waves were detected.\n",
    "    \"\"\"\n",
    "\n",
    "    fm = FOOOF(peak_width_limits=[0.02, 0.06], max_n_peaks=5, min_peak_height=0.2,\n",
    "               peak_threshold=2.0, aperiodic_mode='knee')\n",
    "\n",
    "    mayer_wave_range = (0.05, 0.15)\n",
    "    total_valid_psds = 0\n",
    "    mayer_wave_count = 0\n",
    "    mayer_wave_segments = []  # Store session and segment names\n",
    "\n",
    "    for session in PSDs.columns:\n",
    "        for segment in PSDs.index:\n",
    "            entry = PSDs.at[segment, session]\n",
    "\n",
    "            if isinstance(entry, dict) and 'freqs' in entry and 'a_fft' in entry:\n",
    "                freqs = np.array(entry['freqs'])\n",
    "                power_spectrum = np.array(entry['a_fft'])\n",
    "\n",
    "                valid_idx = freqs > 0  # Remove 0 Hz\n",
    "                freqs = freqs[valid_idx]\n",
    "                power_spectrum = power_spectrum[valid_idx]\n",
    "\n",
    "                if len(freqs) > 0 and len(power_spectrum) > 0:\n",
    "                    fm.fit(freqs, power_spectrum, [0, 0.35])\n",
    "                    total_valid_psds += 1\n",
    "\n",
    "                    for peak in fm.get_params('peak_params'):\n",
    "                        peak = np.array(peak)\n",
    "                        if np.isnan(peak).any():\n",
    "                            continue\n",
    "                        peak_freq = peak[0]\n",
    "                        if mayer_wave_range[0] <= peak_freq <= mayer_wave_range[1]:\n",
    "                            mayer_wave_count += 1\n",
    "                            mayer_wave_segments.append((session, segment))\n",
    "                            break  # Count only once per PSD\n",
    "\n",
    "    if show:                   \n",
    "        print(f\"Total non-NaN PSDs: {total_valid_psds}\")\n",
    "        print(f\"Number of PSDs containing Mayer waves: {mayer_wave_count}\")\n",
    "        print(\"Sessions and Segments with Mayer waves:\")\n",
    "        for session, segment in mayer_wave_segments:\n",
    "            print(f\"Session: {session}, Segment: {segment}\")\n",
    "\n",
    "    return total_valid_psds, mayer_wave_count, mayer_wave_segments\n",
    "\n",
    "\n",
    "\n",
    "mayer_wave_counts(results, show = True)"
=======
    "print(int(missing_subjects[7]))\n",
    "missing_subjects[7]"
   ]
  },
  {
   "cell_type": "markdown",
   "metadata": {},
   "source": [
    "# Test for cutoff threshold"
>>>>>>> e81be047d8f9ee2faf3bda15ec703e735396964d
   ]
  },
  {
   "cell_type": "code",
<<<<<<< HEAD
   "execution_count": 29,
   "metadata": {},
   "outputs": [
    {
     "data": {
      "text/plain": [
       "Text(0.5, 1.0, 'k')"
      ]
     },
     "execution_count": 29,
     "metadata": {},
     "output_type": "execute_result"
=======
   "execution_count": 15,
   "metadata": {},
   "outputs": [
    {
     "ename": "NameError",
     "evalue": "name 'calculate_differences' is not defined",
     "output_type": "error",
     "traceback": [
      "\u001b[0;31m---------------------------------------------------------------------------\u001b[0m",
      "\u001b[0;31mNameError\u001b[0m                                 Traceback (most recent call last)",
      "Cell \u001b[0;32mIn[15], line 1\u001b[0m\n\u001b[0;32m----> 1\u001b[0m diff \u001b[38;5;241m=\u001b[39m \u001b[43mcalculate_differences\u001b[49m(a_PSD, n_PSD)\n",
      "\u001b[0;31mNameError\u001b[0m: name 'calculate_differences' is not defined"
     ]
    }
   ],
   "source": [
    "\n",
    "diff = calculate_differences(a_PSD, n_PSD)\n"
>>>>>>> 46f89d50f8a11333452c8410219a5417b7312cdd
   ]
  },
  {
   "cell_type": "code",
   "execution_count": null,
   "metadata": {},
   "outputs": [],
<<<<<<< HEAD
   "source": [
    "# Import required code for visualizing example models\n",
    "from fooof import FOOOF\n",
    "from fooof.sim.gen import gen_power_spectrum\n",
    "from fooof.sim.utils import set_random_seed\n",
    "from fooof.plts.spectra import plot_spectra\n",
    "from fooof.plts.annotate import plot_annotated_model"
   ]
  },
  {
   "cell_type": "code",
   "execution_count": null,
   "metadata": {},
   "outputs": [],
   "source": [
    "# Initialize power spectrum model objects and fit the power spectra\n",
    "freq_range = [0, 0.5]\n",
    "fm = FOOOF(peak_width_limits=[0.02, 0.06], max_n_peaks=5, min_peak_height=0.2,\n",
    "           peak_threshold=2.0, aperiodic_mode='knee')\n",
    "# Model the power spectrum with FOOOF, and print out a report\n",
    "fm.report(freqs, a_fft, freq_range)"
   ]
  },
  {
   "cell_type": "code",
   "execution_count": null,
   "metadata": {},
   "outputs": [],
   "source": [
    "fm = FOOOF(peak_width_limits=[0.02, 0.06], max_n_peaks=6, min_peak_height=0.19,\n",
    "           peak_threshold=2.0, aperiodic_mode='knee')\n",
    "# Model the power spectrum with FOOOF, and print out a report\n",
    "\n",
    "\n",
    "for session in results.keys():\n",
    "    segments = results[session]\n",
    "    for segment_id in segments.keys():\n",
    "        segment = segments[segment_id]\n",
    "        if segment is None or (isinstance(segment, float) and np.isnan(segment)):\n",
    "    \n",
    "            continue\n",
    "        a_fft = segment['a_fft']\n",
    "        freqs = segment['freqs']\n",
    "        freqs = freqs[(freqs >= 0.01) & (freqs <= 0.5)]\n",
    "        a_fft = a_fft[:len(freqs)]\n",
    "        fm.report(freqs, a_fft, freq_range)\n",
    "        plt.figure(figsize=(10,5))\n",
    "        plt.plot(freqs,a_fft, color='blue')\n",
    "        plt.xlabel('freqs')\n",
    "        plt.ylabel('power')\n",
    "        plt.title('psd')\n",
    "        plt.grid(True)\n",
    "\n",
    "        "
   ]
  },
  {
   "cell_type": "markdown",
   "metadata": {},
   "source": [
    "## counts the availables segments and how many contains mayer waves"
   ]
  },
  {
   "cell_type": "code",
   "execution_count": 23,
   "metadata": {},
   "outputs": [
    {
     "name": "stdout",
     "output_type": "stream",
     "text": [
      "Total non-NaN PSDs: 0\n",
      "Number of PSDs containing Mayer waves: 0\n",
      "Sessions and Segments with Mayer waves:\n"
     ]
    },
    {
     "name": "stderr",
     "output_type": "stream",
     "text": [
      "/var/folders/xv/64m91p097z5bhlb_0myjf3580000gn/T/ipykernel_68007/307888464.py:1: DeprecationWarning: \n",
      "The `fooof` package is being deprecated and replaced by the `specparam` (spectral parameterization) package.\n",
      "This version of `fooof` (1.1) is fully functional, but will not be further updated.\n",
      "New projects are recommended to update to using `specparam` (see Changelog for details).\n",
      "  from fooof import FOOOF\n"
     ]
>>>>>>> e81be047d8f9ee2faf3bda15ec703e735396964d
    },
    {
     "data": {
      "image/png": "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",
      "text/plain": [
<<<<<<< HEAD
=======
       "(0, 0, [])"
      ]
     },
     "execution_count": 23,
     "metadata": {},
     "output_type": "execute_result"
    }
   ],
=======
>>>>>>> 46f89d50f8a11333452c8410219a5417b7312cdd
   "source": [
    "from fooof import FOOOF\n",
    "import numpy as np\n",
    "import pandas as pd\n",
    "\n",
    "def mayer_wave_counts(PSDs, show=True):\n",
    "    \"\"\"\n",
    "    Analyzes PSDs to count the number of valid (non-NaN) PSDs and those containing Mayer waves (0.05 - 0.15 Hz).\n",
    "    Also returns the corresponding session names and segment names for PSDs containing Mayer waves.\n",
    "\n",
    "    Parameters:\n",
    "    - PSDs: DataFrame where each entry is a PSD dictionary (with 'freqs' and 'a_fft') or NaN.\n",
    "    - show: If True, prints summary statistics.\n",
    "\n",
    "    Returns:\n",
    "    - total_valid_psds: Number of non-NaN PSDs analyzed.\n",
    "    - mayer_wave_count: Number of PSDs containing Mayer waves.\n",
    "    - mayer_wave_segments: List of tuples (session_name, segment_name) where Mayer waves were detected.\n",
    "    \"\"\"\n",
    "\n",
    "    fm = FOOOF(peak_width_limits=[0.02, 0.06], max_n_peaks=5, min_peak_height=0.2,\n",
    "               peak_threshold=2.0, aperiodic_mode='knee')\n",
    "\n",
    "    mayer_wave_range = (0.05, 0.15)\n",
    "    total_valid_psds = 0\n",
    "    mayer_wave_count = 0\n",
    "    mayer_wave_segments = []  # Store session and segment names\n",
    "\n",
    "    for session in PSDs.columns:\n",
    "        for segment in PSDs.index:\n",
    "            entry = PSDs.at[segment, session]\n",
    "\n",
    "            if isinstance(entry, dict) and 'freqs' in entry and 'a_fft' in entry:\n",
    "                freqs = np.array(entry['freqs'])\n",
    "                power_spectrum = np.array(entry['a_fft'])\n",
    "\n",
    "                valid_idx = freqs > 0  # Remove 0 Hz\n",
    "                freqs = freqs[valid_idx]\n",
    "                power_spectrum = power_spectrum[valid_idx]\n",
    "\n",
    "                if len(freqs) > 0 and len(power_spectrum) > 0:\n",
    "                    fm.fit(freqs, power_spectrum, [0, 0.35])\n",
    "                    total_valid_psds += 1\n",
    "\n",
    "                    for peak in fm.get_params('peak_params'):\n",
    "                        peak = np.array(peak)\n",
    "                        if np.isnan(peak).any():\n",
    "                            continue\n",
    "                        peak_freq = peak[0]\n",
    "                        if mayer_wave_range[0] <= peak_freq <= mayer_wave_range[1]:\n",
    "                            mayer_wave_count += 1\n",
    "                            mayer_wave_segments.append((session, segment))\n",
    "                            break  # Count only once per PSD\n",
    "\n",
    "    if show:                   \n",
    "        print(f\"Total non-NaN PSDs: {total_valid_psds}\")\n",
    "        print(f\"Number of PSDs containing Mayer waves: {mayer_wave_count}\")\n",
    "        print(\"Sessions and Segments with Mayer waves:\")\n",
    "        for session, segment in mayer_wave_segments:\n",
    "            print(f\"Session: {session}, Segment: {segment}\")\n",
    "\n",
    "    return total_valid_psds, mayer_wave_count, mayer_wave_segments\n",
    "\n",
    "\n",
    "\n",
    "mayer_wave_counts(results, show = True)"
   ]
  },
  {
   "cell_type": "code",
<<<<<<< HEAD
   "execution_count": 29,
   "metadata": {},
   "outputs": [
    {
     "data": {
      "text/plain": [
       "Text(0.5, 1.0, 'k')"
      ]
     },
     "execution_count": 29,
     "metadata": {},
     "output_type": "execute_result"
    },
    {
     "data": {
      "image/png": "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",
      "text/plain": [
>>>>>>> e81be047d8f9ee2faf3bda15ec703e735396964d
       "<Figure size 640x480 with 1 Axes>"
      ]
     },
     "metadata": {},
     "output_type": "display_data"
    },
    {
     "data": {
      "image/png": "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",
      "text/plain": [
       "<Figure size 850x650 with 1 Axes>"
      ]
     },
     "metadata": {},
     "output_type": "display_data"
    }
   ],
=======
   "execution_count": null,
   "metadata": {},
   "outputs": [],
>>>>>>> 46f89d50f8a11333452c8410219a5417b7312cdd
   "source": [
    "def apply_fooof(freqs, psd):\n",
    "    \"\"\"Apply FOOOF model to a given power spectrum.\"\"\"\n",
    "    fm = FOOOF(peak_width_limits=[0.02, 0.06], max_n_peaks=5, min_peak_height=0.2,\n",
    "               peak_threshold=2.0, aperiodic_mode='knee')\n",
    "    fm.fit(freqs, psd, [0.01, 0.35])\n",
    "    return fm\n",
    "\n",
    "from fooof.plts.annotate import plot_annotated_model\n",
    "f = results['Session_02']['segment_2']['freqs']\n",
    "p = results['Session_02']['segment_2']['fft']\n",
    "fm = apply_fooof(f,p)\n",
    "\n",
    "plot_annotated_model(fm, plt.gca())\n",
    "plt.title(f\"k\")"
   ]
  },
  {
   "cell_type": "markdown",
   "metadata": {},
   "source": [
    "# Test for cutoff threshold"
   ]
  },
  {
   "cell_type": "code",
   "execution_count": null,
   "metadata": {},
   "outputs": [],
   "source": [
    "def apply_fooof(freqs, psd):\n",
    "    \"\"\"Apply FOOOF model to a given power spectrum.\"\"\"\n",
    "    fm = FOOOF(peak_width_limits=[0.02, 0.06], max_n_peaks=5, min_peak_height=0.2,\n",
    "               peak_threshold=2.0, aperiodic_mode='knee')\n",
    "    fm.fit(freqs, psd, [0.01, 0.35])\n",
    "    return fm\n",
    "\n",
    "from fooof.plts.annotate import plot_annotated_model\n",
    "f = results['Session_02']['segment_2']['freqs']\n",
    "p = results['Session_02']['segment_2']['fft']\n",
    "fm = apply_fooof(f,p)\n",
    "\n",
    "plot_annotated_model(fm, plt.gca())\n",
    "plt.title(f\"k\")"
   ]
  },
  {
   "cell_type": "markdown",
   "metadata": {},
   "source": [
    "# Test for cutoff threshold"
   ]
  },
  {
   "cell_type": "code",
   "execution_count": null,
   "metadata": {},
   "outputs": [],
   "source": [
    "import matplotlib.pyplot as plt\n",
    "all_diffs = []\n",
    "fig = plt.figure(figsize=(15, 4))\n",
    "fig, ax = plt.subplots(figsize=(15, 4))\n",
    "plt.xlabel(\"Difference Value\")\n",
    "plt.ylabel(\"Frequency\")\n",
    "\n",
    "#ax.set_xlim(0,1e7)\n",
    "ax.set_title(\"absolute differences histograms for 100 subjects\")\n",
    "for i in range(len(a_PSDs)):\n",
    "    a_PSD = a_PSDs[i]\n",
    "    n_PSD = n_PSDs[i]\n",
    "    diff = calculate_differences(a_PSD,n_PSD)\n",
    "    ax.hist(diff, alpha=0.5, edgecolor='black',bins=30)\n",
    "    all_diffs.append(diff)\n",
    "\n",
    "\n"
   ]
  },
  {
   "cell_type": "code",
   "execution_count": null,
   "metadata": {},
   "outputs": [],
   "source": [
    "flattened_all_diff = [item for sublist in all_diffs for item in sublist]\n",
    "\n",
    "counts, bins, _ = plt.hist(flattened_all_diff, bins = 100, alpha = 0.8, edgecolor = \"black\")\n",
    "plt.title(\"Histogram_100_subjects\")\n",
    "plt.xlabel(\"Difference Value\")\n",
    "plt.ylabel(\"Frequency\")\n",
    "\n",
    "peak_bin_index = np.argmax(counts)  \n",
    "peak_value = (bins[peak_bin_index]) "
   ]
  },
  {
   "cell_type": "code",
   "execution_count": null,
   "metadata": {},
   "outputs": [],
   "source": [
    "neurokit_rates=pd.read_pickle(f'Test/00080_ecg_rate.pkl.gz', compression='gzip')\n",
    "annotation_rates=pd.read_pickle('ECG_rate_annotations/00080_ecg_rate.pkl.gz', compression='gzip')\n",
    "\n",
    "neurokit_rates\n",
    "annotation_rates"
   ]
  },
  {
   "cell_type": "code",
   "execution_count": null,
   "metadata": {},
   "outputs": [],
   "source": [
    "def filter_PSD(a_PSDs,n_PSDs,threshold):\n",
    "    filtered_a_PSDs = []\n",
    "    filtered_n_PSDs = []\n",
    "\n",
    "    for i in range(len(a_PSDs)):\n",
    "        a_PSD = a_PSDs[i]\n",
    "        n_PSD = n_PSDs[i]\n",
    "        differences = calculate_differences(a_PSD,n_PSD)\n",
    "\n",
    "        filtered_a_segments = []\n",
    "        filtered_n_segments = []\n",
    "\n",
    "        for j in range(len(differences)):\n",
    "            if differences[j] <= threshold: \n",
    "                filtered_a_segments.append(a_PSD[j])  \n",
    "                filtered_n_segments.append(n_PSD[j]) \n",
    "\n",
    "        if filtered_a_segments and filtered_n_segments:\n",
    "            filtered_a_PSDs.append(filtered_a_segments)\n",
    "            filtered_n_PSDs.append(filtered_n_segments)\n",
    "\n",
    "    return filtered_a_PSDs, filtered_n_PSDs\n",
    "\n",
    "a,b = filter_PSD(a_PSDs,n_PSDs, 5e5)\n"
   ]
  },
  {
   "cell_type": "code",
   "execution_count": null,
   "metadata": {},
   "outputs": [],
   "source": [
    "c = []\n",
    "for i in range(len(a)):\n",
    "    a1 = a[i]\n",
    "    b1 = b[i]\n",
    "    diff = calculate_differences(a1,b1)\n",
    "    c.append(diff)\n"
   ]
  },
  {
   "cell_type": "code",
   "execution_count": null,
   "metadata": {},
   "outputs": [
    {
     "ename": "NameError",
     "evalue": "name 'c' is not defined",
     "output_type": "error",
     "traceback": [
      "\u001b[0;31m---------------------------------------------------------------------------\u001b[0m",
      "\u001b[0;31mNameError\u001b[0m                                 Traceback (most recent call last)",
      "Cell \u001b[0;32mIn[9], line 1\u001b[0m\n\u001b[0;32m----> 1\u001b[0m d \u001b[38;5;241m=\u001b[39m [item \u001b[38;5;28;01mfor\u001b[39;00m sublist \u001b[38;5;129;01min\u001b[39;00m \u001b[43mc\u001b[49m \u001b[38;5;28;01mfor\u001b[39;00m item \u001b[38;5;129;01min\u001b[39;00m sublist]\n\u001b[1;32m      4\u001b[0m fig \u001b[38;5;241m=\u001b[39m plt\u001b[38;5;241m.\u001b[39mfigure(figsize\u001b[38;5;241m=\u001b[39m(\u001b[38;5;241m6\u001b[39m, \u001b[38;5;241m4\u001b[39m))\n\u001b[1;32m      5\u001b[0m plt\u001b[38;5;241m.\u001b[39mxlim(\u001b[38;5;241m0\u001b[39m,\u001b[38;5;241m1e6\u001b[39m)\n",
      "\u001b[0;31mNameError\u001b[0m: name 'c' is not defined"
     ]
    }
   ],
   "source": [
    "d = [item for sublist in c for item in sublist]\n",
    "\n",
    "\n",
    "fig = plt.figure(figsize=(6, 4))\n",
    "plt.xlim(0,1e6)\n",
    "\n",
    "counts, bins, _ = plt.hist(d, bins = 3, alpha = 0.8, edgecolor = \"black\")\n",
    "plt.title(\"Histogram_100_subjects\")\n",
    "plt.xlabel(\"Difference Value\")\n",
    "plt.ylabel(\"Frequency\")"
   ]
  },
  {
   "cell_type": "code",
   "execution_count": null,
   "metadata": {},
   "outputs": [
    {
     "ename": "NameError",
     "evalue": "name 'd' is not defined",
     "output_type": "error",
     "traceback": [
      "\u001b[0;31m---------------------------------------------------------------------------\u001b[0m",
      "\u001b[0;31mNameError\u001b[0m                                 Traceback (most recent call last)",
      "Cell \u001b[0;32mIn[8], line 1\u001b[0m\n\u001b[0;32m----> 1\u001b[0m \u001b[38;5;28mlen\u001b[39m(\u001b[43md\u001b[49m)\u001b[38;5;241m/\u001b[39m\u001b[38;5;28mlen\u001b[39m(flattened_all_diff)\n",
      "\u001b[0;31mNameError\u001b[0m: name 'd' is not defined"
     ]
    }
   ],
   "source": [
    "len(d)/len(flattened_all_diff)"
   ]
  }
 ],
 "metadata": {
  "kernelspec": {
   "display_name": "Python 3",
   "language": "python",
   "name": "python3"
  },
  "language_info": {
   "codemirror_mode": {
    "name": "ipython",
    "version": 3
   },
   "file_extension": ".py",
   "mimetype": "text/x-python",
   "name": "python",
   "nbconvert_exporter": "python",
   "pygments_lexer": "ipython3",
   "version": "3.9.6"
  }
 },
 "nbformat": 4,
 "nbformat_minor": 2
}
